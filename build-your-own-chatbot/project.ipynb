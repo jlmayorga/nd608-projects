{
 "cells": [
  {
   "cell_type": "markdown",
   "id": "124e5672",
   "metadata": {},
   "source": [
    "# Custom Chatbot Project"
   ]
  },
  {
   "cell_type": "markdown",
   "id": "2a4a94b3",
   "metadata": {},
   "source": [
    "TODO: In this cell, write an explanation of which dataset you have chosen and why it is appropriate for this task"
   ]
  },
  {
   "metadata": {},
   "cell_type": "markdown",
   "source": "## Prep",
   "id": "74f67d32b36cca5b"
  },
  {
   "metadata": {
    "ExecuteTime": {
     "end_time": "2024-04-24T18:29:25.007407Z",
     "start_time": "2024-04-24T18:29:24.074663Z"
    }
   },
   "cell_type": "code",
   "source": [
    "\n",
    "import pandas as pd\n",
    "import requests\n",
    "import tiktoken\n",
    "from dotenv import load_dotenv\n",
    "from openai import OpenAI\n",
    "from scipy.spatial.distance import cosine\n",
    "\n",
    "load_dotenv()\n",
    "\n",
    "COMPLETION_MODEL_NAME = \"gpt-3.5-turbo-instruct\"\n",
    "EMBEDDING_MODEL_NAME = \"text-embedding-ada-002\"\n",
    "TOKENIZER_ENCODING = \"cl100k_base\"\n",
    "MAX_TOKENS = 2048\n",
    "\n",
    "QUESTION_1 = \"Who is the judge presiding over the 'The People of the State of New York v. Donald J. Trump' trial?\"\n",
    "QUESTION_2 = \"What are the indictments filed against Donald J. Trump?\"\n",
    "\n",
    "client = OpenAI()"
   ],
   "id": "f09bf7a39ab9b066",
   "outputs": [],
   "execution_count": 1
  },
  {
   "cell_type": "markdown",
   "id": "a63d4c5f",
   "metadata": {},
   "source": [
    "## Data Wrangling\n",
    "\n",
    "TODO: In the cells below, load your chosen dataset into a `pandas` dataframe with a column named `\"text\"`. This column should contain all of your text data, separated into at least 20 rows."
   ]
  },
  {
   "cell_type": "code",
   "id": "c69b83a1",
   "metadata": {
    "ExecuteTime": {
     "end_time": "2024-04-24T18:29:25.700021Z",
     "start_time": "2024-04-24T18:29:25.009017Z"
    }
   },
   "source": [
    "wikipedia_articles = [\"E._Jean_Carroll_v._Donald_J._Trump\", \"Stormy_Daniels–Donald_Trump_scandal\",\n",
    "                      \"Prosecution_of_Donald_Trump_in_New_York\", \"Indictments_against_Donald_Trump\"]\n",
    "\n",
    "wikipedia_api_url_template = \"https://en.wikipedia.org/w/api.php?action=query&prop=extracts&exlimit=1&titles={article_name}&explaintext=1&formatversion=2&format=json\"\n",
    "\n",
    "wikipedia_urls = [wikipedia_api_url_template.format(article_name=article_name) for article_name in wikipedia_articles]\n",
    "\n",
    "df = pd.DataFrame()\n",
    "for wikipedia_url in wikipedia_urls:\n",
    "    res = requests.get(wikipedia_url)\n",
    "    article_df = pd.DataFrame()\n",
    "    article_df[\"text\"] = res.json()[\"query\"][\"pages\"][0][\"extract\"].strip().split(\"\\n\")\n",
    "    df = pd.concat([df, article_df], ignore_index=True)\n",
    "\n",
    "df = df[(df[\"text\"].str.len() > 0) & (~df[\"text\"].str.startswith(\"==\"))]\n",
    "df"
   ],
   "outputs": [
    {
     "data": {
      "text/plain": [
       "                                                  text\n",
       "0    E. Jean Carroll v. Donald J. Trump is the name...\n",
       "1    In November 2022, Carroll filed her second sui...\n",
       "2    In September 2023, Kaplan issued a partial sum...\n",
       "7    On June 21, 2019, E. Jean Carroll published an...\n",
       "8    The allegations were made during the Trump adm...\n",
       "..                                                 ...\n",
       "512  Trump was indicted on state charges in a March...\n",
       "517  Trump was indicted in June 2023 in the United ...\n",
       "522  Trump was indicted in August 2023 in the Unite...\n",
       "527  Trump was indicted on state charges in an Augu...\n",
       "540    Trump Trials Clearinghouse — from Just Security\n",
       "\n",
       "[260 rows x 1 columns]"
      ],
      "text/html": [
       "<div>\n",
       "<style scoped>\n",
       "    .dataframe tbody tr th:only-of-type {\n",
       "        vertical-align: middle;\n",
       "    }\n",
       "\n",
       "    .dataframe tbody tr th {\n",
       "        vertical-align: top;\n",
       "    }\n",
       "\n",
       "    .dataframe thead th {\n",
       "        text-align: right;\n",
       "    }\n",
       "</style>\n",
       "<table border=\"1\" class=\"dataframe\">\n",
       "  <thead>\n",
       "    <tr style=\"text-align: right;\">\n",
       "      <th></th>\n",
       "      <th>text</th>\n",
       "    </tr>\n",
       "  </thead>\n",
       "  <tbody>\n",
       "    <tr>\n",
       "      <th>0</th>\n",
       "      <td>E. Jean Carroll v. Donald J. Trump is the name...</td>\n",
       "    </tr>\n",
       "    <tr>\n",
       "      <th>1</th>\n",
       "      <td>In November 2022, Carroll filed her second sui...</td>\n",
       "    </tr>\n",
       "    <tr>\n",
       "      <th>2</th>\n",
       "      <td>In September 2023, Kaplan issued a partial sum...</td>\n",
       "    </tr>\n",
       "    <tr>\n",
       "      <th>7</th>\n",
       "      <td>On June 21, 2019, E. Jean Carroll published an...</td>\n",
       "    </tr>\n",
       "    <tr>\n",
       "      <th>8</th>\n",
       "      <td>The allegations were made during the Trump adm...</td>\n",
       "    </tr>\n",
       "    <tr>\n",
       "      <th>...</th>\n",
       "      <td>...</td>\n",
       "    </tr>\n",
       "    <tr>\n",
       "      <th>512</th>\n",
       "      <td>Trump was indicted on state charges in a March...</td>\n",
       "    </tr>\n",
       "    <tr>\n",
       "      <th>517</th>\n",
       "      <td>Trump was indicted in June 2023 in the United ...</td>\n",
       "    </tr>\n",
       "    <tr>\n",
       "      <th>522</th>\n",
       "      <td>Trump was indicted in August 2023 in the Unite...</td>\n",
       "    </tr>\n",
       "    <tr>\n",
       "      <th>527</th>\n",
       "      <td>Trump was indicted on state charges in an Augu...</td>\n",
       "    </tr>\n",
       "    <tr>\n",
       "      <th>540</th>\n",
       "      <td>Trump Trials Clearinghouse — from Just Security</td>\n",
       "    </tr>\n",
       "  </tbody>\n",
       "</table>\n",
       "<p>260 rows × 1 columns</p>\n",
       "</div>"
      ]
     },
     "execution_count": 2,
     "metadata": {},
     "output_type": "execute_result"
    }
   ],
   "execution_count": 2
  },
  {
   "cell_type": "markdown",
   "id": "ae769871",
   "metadata": {},
   "source": [
    "## Custom Query Completion\n",
    "\n",
    "TODO: In the cells below, compose a custom query using your chosen dataset and retrieve results from an OpenAI `Completion` model. You may copy and paste any useful code from the course materials."
   ]
  },
  {
   "cell_type": "code",
   "id": "582f0656",
   "metadata": {
    "ExecuteTime": {
     "end_time": "2024-04-24T18:29:26.604315Z",
     "start_time": "2024-04-24T18:29:25.701319Z"
    }
   },
   "source": [
    "batch_size = 100\n",
    "embeddings = []\n",
    "for i in range(0, len(df), batch_size):\n",
    "    # Send text data to OpenAI model to get embeddings\n",
    "    response = client.embeddings.create(\n",
    "        input=df.iloc[i:i + batch_size][\"text\"].tolist(),\n",
    "        model=EMBEDDING_MODEL_NAME\n",
    "    )\n",
    "\n",
    "    # Add embeddings to list\n",
    "    embeddings.extend([data.embedding for data in response.data])\n",
    "\n",
    "# Add embeddings list to dataframe\n",
    "df[\"embeddings\"] = embeddings\n",
    "df"
   ],
   "outputs": [
    {
     "data": {
      "text/plain": [
       "                                                  text  \\\n",
       "0    E. Jean Carroll v. Donald J. Trump is the name...   \n",
       "1    In November 2022, Carroll filed her second sui...   \n",
       "2    In September 2023, Kaplan issued a partial sum...   \n",
       "7    On June 21, 2019, E. Jean Carroll published an...   \n",
       "8    The allegations were made during the Trump adm...   \n",
       "..                                                 ...   \n",
       "512  Trump was indicted on state charges in a March...   \n",
       "517  Trump was indicted in June 2023 in the United ...   \n",
       "522  Trump was indicted in August 2023 in the Unite...   \n",
       "527  Trump was indicted on state charges in an Augu...   \n",
       "540    Trump Trials Clearinghouse — from Just Security   \n",
       "\n",
       "                                            embeddings  \n",
       "0    [-0.014774243347346783, -0.0011845094850286841...  \n",
       "1    [-0.02475082129240036, -0.013566769659519196, ...  \n",
       "2    [-0.017187822610139847, 0.001904560485854745, ...  \n",
       "7    [-0.025747627019882202, -0.008002640679478645,...  \n",
       "8    [-0.036374982446432114, 0.0016292688669636846,...  \n",
       "..                                                 ...  \n",
       "512  [-0.03097999095916748, -0.02709445357322693, -...  \n",
       "517  [-0.022944077849388123, -0.029442088678479195,...  \n",
       "522  [-0.037238024175167084, -0.018452312797307968,...  \n",
       "527  [-0.021089570596814156, -0.026820292696356773,...  \n",
       "540  [-0.02773536927998066, -0.00894469115883112, 0...  \n",
       "\n",
       "[260 rows x 2 columns]"
      ],
      "text/html": [
       "<div>\n",
       "<style scoped>\n",
       "    .dataframe tbody tr th:only-of-type {\n",
       "        vertical-align: middle;\n",
       "    }\n",
       "\n",
       "    .dataframe tbody tr th {\n",
       "        vertical-align: top;\n",
       "    }\n",
       "\n",
       "    .dataframe thead th {\n",
       "        text-align: right;\n",
       "    }\n",
       "</style>\n",
       "<table border=\"1\" class=\"dataframe\">\n",
       "  <thead>\n",
       "    <tr style=\"text-align: right;\">\n",
       "      <th></th>\n",
       "      <th>text</th>\n",
       "      <th>embeddings</th>\n",
       "    </tr>\n",
       "  </thead>\n",
       "  <tbody>\n",
       "    <tr>\n",
       "      <th>0</th>\n",
       "      <td>E. Jean Carroll v. Donald J. Trump is the name...</td>\n",
       "      <td>[-0.014774243347346783, -0.0011845094850286841...</td>\n",
       "    </tr>\n",
       "    <tr>\n",
       "      <th>1</th>\n",
       "      <td>In November 2022, Carroll filed her second sui...</td>\n",
       "      <td>[-0.02475082129240036, -0.013566769659519196, ...</td>\n",
       "    </tr>\n",
       "    <tr>\n",
       "      <th>2</th>\n",
       "      <td>In September 2023, Kaplan issued a partial sum...</td>\n",
       "      <td>[-0.017187822610139847, 0.001904560485854745, ...</td>\n",
       "    </tr>\n",
       "    <tr>\n",
       "      <th>7</th>\n",
       "      <td>On June 21, 2019, E. Jean Carroll published an...</td>\n",
       "      <td>[-0.025747627019882202, -0.008002640679478645,...</td>\n",
       "    </tr>\n",
       "    <tr>\n",
       "      <th>8</th>\n",
       "      <td>The allegations were made during the Trump adm...</td>\n",
       "      <td>[-0.036374982446432114, 0.0016292688669636846,...</td>\n",
       "    </tr>\n",
       "    <tr>\n",
       "      <th>...</th>\n",
       "      <td>...</td>\n",
       "      <td>...</td>\n",
       "    </tr>\n",
       "    <tr>\n",
       "      <th>512</th>\n",
       "      <td>Trump was indicted on state charges in a March...</td>\n",
       "      <td>[-0.03097999095916748, -0.02709445357322693, -...</td>\n",
       "    </tr>\n",
       "    <tr>\n",
       "      <th>517</th>\n",
       "      <td>Trump was indicted in June 2023 in the United ...</td>\n",
       "      <td>[-0.022944077849388123, -0.029442088678479195,...</td>\n",
       "    </tr>\n",
       "    <tr>\n",
       "      <th>522</th>\n",
       "      <td>Trump was indicted in August 2023 in the Unite...</td>\n",
       "      <td>[-0.037238024175167084, -0.018452312797307968,...</td>\n",
       "    </tr>\n",
       "    <tr>\n",
       "      <th>527</th>\n",
       "      <td>Trump was indicted on state charges in an Augu...</td>\n",
       "      <td>[-0.021089570596814156, -0.026820292696356773,...</td>\n",
       "    </tr>\n",
       "    <tr>\n",
       "      <th>540</th>\n",
       "      <td>Trump Trials Clearinghouse — from Just Security</td>\n",
       "      <td>[-0.02773536927998066, -0.00894469115883112, 0...</td>\n",
       "    </tr>\n",
       "  </tbody>\n",
       "</table>\n",
       "<p>260 rows × 2 columns</p>\n",
       "</div>"
      ]
     },
     "execution_count": 3,
     "metadata": {},
     "output_type": "execute_result"
    }
   ],
   "execution_count": 3
  },
  {
   "cell_type": "code",
   "id": "13f2dcd7",
   "metadata": {
    "ExecuteTime": {
     "end_time": "2024-04-24T18:29:26.618121Z",
     "start_time": "2024-04-24T18:29:26.607036Z"
    }
   },
   "source": [
    "\n",
    "\n",
    "def get_question_embeddings(question: str) -> list[float]:\n",
    "    \"\"\"\n",
    "    Gets the embeddings of the given question using the OpenAI API.\n",
    "    :param question: The question to answer.\n",
    "    :return: The embeddings of the given question.\n",
    "    \"\"\"\n",
    "    resp = client.embeddings.create(\n",
    "        input=question,\n",
    "        model=EMBEDDING_MODEL_NAME\n",
    "    )\n",
    "    return resp.data[0].embedding\n",
    "\n",
    "\n",
    "def get_rows_sorted_by_relevance(question: str, df: pd.DataFrame) -> pd.DataFrame:\n",
    "    \"\"\"\n",
    "    Function that takes in a question string and a dataframe containing\n",
    "    rows of text and associated embeddings, and returns that dataframe\n",
    "    sorted from least to most relevant for that question\n",
    "    \"\"\"\n",
    "\n",
    "    # Get embeddings for the question text\n",
    "    question_embeddings = get_question_embeddings(question)\n",
    "\n",
    "    # Make a copy of the dataframe and add a \"distances\" column containing\n",
    "    # the cosine distances between each row's embeddings and the\n",
    "    # embeddings of the question\n",
    "    #\n",
    "    # Modified based on https://github.com/openai/openai-python/blob/075ab0349a5a7d94528bfef0fd7adc8e2baf7c5d/openai/embeddings_utils.py#L139 \n",
    "    # since embeddings_utils.py is no longer available in newer versions of the OpenAI SDK\n",
    "    df_copy = df.copy()\n",
    "    df_copy[\"distances\"] = df_copy[\"embeddings\"].apply(lambda x: cosine(question_embeddings, x))\n",
    "\n",
    "    # Sort the copied dataframe by the distances and return it\n",
    "    # (shorter distance = more relevant, so we sort in ascending order)\n",
    "    df_copy.sort_values(\"distances\", ascending=True, inplace=True)\n",
    "    return df_copy\n",
    "\n",
    "\n",
    "def create_prompt(question: str, df: pd.DataFrame, max_token_count: int) -> str:\n",
    "    \"\"\"\n",
    "    Given a question and a dataframe containing rows of text and their\n",
    "    embeddings, return a text prompt to send to a Completion model\n",
    "    \"\"\"\n",
    "    # Create a tokenizer that is designed to align with our embeddings\n",
    "    tokenizer = tiktoken.get_encoding(TOKENIZER_ENCODING)\n",
    "\n",
    "    # Count the number of tokens in the prompt template and question\n",
    "    prompt_template = \"\"\"\n",
    "Answer the question based on the context below, and if the question\n",
    "can't be answered based on the context, say \"I don't know\"\n",
    "\n",
    "Context: \n",
    "\n",
    "{}\n",
    "\n",
    "---\n",
    "\n",
    "Question: {}\n",
    "Answer:\"\"\"\n",
    "\n",
    "    current_token_count = len(tokenizer.encode(prompt_template)) + \\\n",
    "                          len(tokenizer.encode(question))\n",
    "\n",
    "    context = []\n",
    "    for text in get_rows_sorted_by_relevance(question, df)[\"text\"].values:\n",
    "\n",
    "        # Increase the counter based on the number of tokens in this row\n",
    "        text_token_count = len(tokenizer.encode(text))\n",
    "        current_token_count += text_token_count\n",
    "\n",
    "        # Add the row of text to the list if we haven't exceeded the max\n",
    "        if current_token_count <= max_token_count:\n",
    "            context.append(text)\n",
    "        else:\n",
    "            break\n",
    "\n",
    "    return prompt_template.format(\"\\n\\n###\\n\\n\".join(context), question)\n",
    "\n",
    "\n",
    "def answer_question(prompt: str, max_tokens: int = MAX_TOKENS) -> str:\n",
    "    \"\"\"\n",
    "    Answers the question given a prompt using the OpenAI API.\n",
    "    :param prompt: The question to answer.\n",
    "    :param max_tokens: The maximum number of tokens to answer.\n",
    "    :return: The answer.\n",
    "    \"\"\"\n",
    "    try:\n",
    "        completion = client.completions.create(\n",
    "            prompt=prompt,\n",
    "            model=COMPLETION_MODEL_NAME,\n",
    "            max_tokens=max_tokens,\n",
    "        )\n",
    "\n",
    "        return completion.choices[0].text.strip()\n",
    "    except Exception as e:\n",
    "        print(e)\n",
    "        return \"\"\n"
   ],
   "outputs": [],
   "execution_count": 4
  },
  {
   "cell_type": "markdown",
   "id": "1783f146",
   "metadata": {},
   "source": [
    "## Custom Performance Demonstration\n",
    "\n",
    "TODO: In the cells below, demonstrate the performance of your custom query using at least 2 questions. For each question, show the answer from a basic `Completion` model query as well as the answer from your custom query."
   ]
  },
  {
   "cell_type": "markdown",
   "id": "4f11fdc0",
   "metadata": {},
   "source": [
    "### Question 1"
   ]
  },
  {
   "cell_type": "code",
   "id": "4901c850",
   "metadata": {
    "ExecuteTime": {
     "end_time": "2024-04-24T18:29:32.340015Z",
     "start_time": "2024-04-24T18:29:26.619514Z"
    }
   },
   "source": [
    "\n",
    "first_prompt = f\"\"\"\n",
    "Question: \"{QUESTION_1}\"\n",
    "Answer:\n",
    "\"\"\"\n",
    "question_1_original_answer = answer_question(first_prompt)\n",
    "question_1_embeddings_answer = answer_question(create_prompt(QUESTION_1, df, 1800), MAX_TOKENS)\n",
    "\n",
    "print(f\"\"\"\n",
    "Question: {QUESTION_1}\n",
    "---------------------------------------------\n",
    "Original Answer: {question_1_original_answer}\n",
    "---------------------------------------------\n",
    "Embeddings Answer: {question_1_embeddings_answer}\n",
    "\"\"\")"
   ],
   "outputs": [
    {
     "name": "stdout",
     "output_type": "stream",
     "text": [
      "\n",
      "Question: Who is the judge presiding over the 'The People of the State of New York v. Donald J. Trump' trial?\n",
      "---------------------------------------------\n",
      "Original Answer: There is currently no legal case with this exact name in the state of New York. It is possible that the question is referring to one of the many ongoing legal cases involving President Donald Trump, in which case the judge presiding over the trial would depend on the specific case in question. Some prominent cases involving Trump in New York include:\n",
      "\n",
      "- People of the State of New York v. The Trump Organization, Donald J. Trump, and others, which is a civil lawsuit filed by the New York Attorney General's office alleging financial misconduct by the Trump Foundation.\n",
      "- The United States v. Michael Cohen, in which Trump's former lawyer pleaded guilty to various offenses, including tax fraud and making illegal campaign contributions at Trump's direction.\n",
      "- Joseph Bondy, Esq. v. Donald J. Trump and others, in which a legal team representing Lev Parnas, a close associate of Trump's personal lawyer Rudy Giuliani, is seeking documents related to the ongoing impeachment inquiry.\n",
      "- E. Jean Carroll v. Donald J. Trump, a defamation lawsuit brought by a woman who alleges that Trump sexually assaulted her in the 1990s.\n",
      "\n",
      "The judge presiding over any of these cases (or other cases involving Trump in New York) would be identified in the case's official filings and court records. It is also possible that the question is referring to a hypothetical future case that has not yet been filed. In this case, the judge presiding over the trial would not be known until the case is officially filed and assigned to a specific judge.\n",
      "---------------------------------------------\n",
      "Embeddings Answer: Acting New York Supreme Court Justice Juan Manuel Merchan.\n",
      "\n"
     ]
    }
   ],
   "execution_count": 5
  },
  {
   "cell_type": "markdown",
   "id": "6e86e37c",
   "metadata": {},
   "source": [
    "### Question 2"
   ]
  },
  {
   "cell_type": "code",
   "id": "6f646989",
   "metadata": {
    "ExecuteTime": {
     "end_time": "2024-04-24T18:29:36.174479Z",
     "start_time": "2024-04-24T18:29:32.341674Z"
    }
   },
   "source": [
    "second_prompt = f\"\"\"\n",
    "Question: \"{QUESTION_2}\"\n",
    "Answer:\n",
    "\"\"\"\n",
    "question_2_original_answer = answer_question(second_prompt, MAX_TOKENS)\n",
    "question_2_embeddings_answer = answer_question(create_prompt(QUESTION_2, df, 1800), MAX_TOKENS)\n",
    "\n",
    "print(f\"\"\"\n",
    "Question: {QUESTION_2}\n",
    "---------------------------------------------\n",
    "Original Answer: {question_2_original_answer}\n",
    "---------------------------------------------\n",
    "Embeddings Answer: {question_2_embeddings_answer}\n",
    "\"\"\")\n"
   ],
   "outputs": [
    {
     "name": "stdout",
     "output_type": "stream",
     "text": [
      "\n",
      "Question: What are the indictments filed against Donald J. Trump?\n",
      "---------------------------------------------\n",
      "Original Answer: As of June 2021, there are no indictments filed against former President Donald J. Trump. However, there have been multiple investigations and legal proceedings against him, including:\n",
      "- Impeachment proceedings in 2019 and 2021, both of which resulted in acquittal by the Senate\n",
      "- Criminal investigation by the Manhattan District Attorney's Office into financial and insurance fraud allegations\n",
      "- Civil lawsuits filed by multiple women accusing him of sexual misconduct and defamation\n",
      "- Investigation by the New York Attorney General into the Trump Organization's business practices, including tax and loan fraud\n",
      "- Multiple lawsuits filed by Trump and his allies alleging election fraud in the 2020 Presidential election (all of which have been dismissed)\n",
      "---------------------------------------------\n",
      "Embeddings Answer: In total, there were four indictments filed against Donald J. Trump. Two are on state charges, one in New York and one in Georgia, while the other two are on federal charges, one in Florida and one in the District of Columbia. The indictments amount to a total of 88 felony charges.\n",
      "\n"
     ]
    }
   ],
   "execution_count": 6
  },
  {
   "cell_type": "code",
   "id": "11c07a54",
   "metadata": {
    "ExecuteTime": {
     "end_time": "2024-04-24T18:29:36.178202Z",
     "start_time": "2024-04-24T18:29:36.176140Z"
    }
   },
   "source": [],
   "outputs": [],
   "execution_count": 6
  }
 ],
 "metadata": {
  "kernelspec": {
   "display_name": "Python 3 (ipykernel)",
   "language": "python",
   "name": "python3"
  },
  "language_info": {
   "codemirror_mode": {
    "name": "ipython",
    "version": 3
   },
   "file_extension": ".py",
   "mimetype": "text/x-python",
   "name": "python",
   "nbconvert_exporter": "python",
   "pygments_lexer": "ipython3",
   "version": "3.9.18"
  }
 },
 "nbformat": 4,
 "nbformat_minor": 5
}
